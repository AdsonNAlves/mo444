{
 "cells": [
  {
   "cell_type": "code",
   "execution_count": 22,
   "metadata": {},
   "outputs": [],
   "source": [
    "import argparse\n",
    "import builtins\n",
    "import os\n",
    "import pickle\n",
    "import datetime\n",
    "import torch\n",
    "\n",
    "from torch.utils.data import DataLoader, ConcatDataset\n",
    "import torch.distributed as dist\n",
    "import torch.multiprocessing as mp\n",
    "from torch.nn.parallel import DistributedDataParallel as DDP\n",
    "\n",
    "import numpy as np\n",
    "import pandas as pd\n",
    "\n",
    "from dataset import Dictionary\n",
    "from dataset import load_tsv, _load_dataset_pvqa\n",
    "# , VQAFeatureDataset, VisualGenomeFeatureDataset, Flickr30kFeatureDataset\n",
    "from dataset import PVQAFeatureDataset, PretrainDataset, _load_dataset_pvqa\n",
    "from dataset import question_types, get_q_type\n",
    "from modeling import BanModel, instance_bce_with_logits, compute_score_with_logits\n",
    "from finetune_main import adjust_learning_rate\n",
    "\n",
    "from tqdm import tqdm\n",
    "import utils\n",
    "from dataset import tfidf_from_questions"
   ]
  },
  {
   "cell_type": "markdown",
   "metadata": {},
   "source": [
    "## Function support"
   ]
  },
  {
   "cell_type": "code",
   "execution_count": 30,
   "metadata": {},
   "outputs": [],
   "source": [
    "def setup(rank, world_size):\n",
    "    os.environ['MASTER_ADDR'] = 'localhost'\n",
    "    os.environ['MASTER_PORT'] = '51243'\n",
    "    \n",
    "    \n",
    "def adjust_learning_rate(optimizer, epoch, epochs):\n",
    "    lr = 0.01\n",
    "    if True:\n",
    "        lr *= 0.5 * (1. + np.cos(np.pi * epoch / epochs))\n",
    "    else:\n",
    "        for milestone in args.schedule:\n",
    "            lr *= 0.1 if epoch >= milestone else 1.\n",
    "    for param_group in optimizer.param_groups:\n",
    "        param_group['lr'] = lr\n",
    "    \n",
    "def train(train_loader: DataLoader, model, optimizer, epoch, arg_gpu = 0):\n",
    "    model.train()\n",
    "    total_loss = 0.0\n",
    "    train_score = 0\n",
    "    total_norm = 0\n",
    "    count_norm = 0\n",
    "    grad_clip = .25\n",
    "    for (v, b, q, a) in tqdm(train_loader):\n",
    "        v = v.cuda(arg_gpu)\n",
    "        b = b.cuda(arg_gpu)\n",
    "        q = q.cuda(arg_gpu)\n",
    "        a = a.cuda(arg_gpu)\n",
    "\n",
    "        pred, att = model(v, b, q, a)\n",
    "        loss = instance_bce_with_logits(pred, a)\n",
    "        optimizer.zero_grad()\n",
    "        loss.backward()\n",
    "\n",
    "        total_norm += torch.nn.utils.clip_grad_norm_(model.parameters(), grad_clip)\n",
    "        count_norm += 1\n",
    "\n",
    "        total_loss += loss.item()\n",
    "\n",
    "        optimizer.step()\n",
    "\n",
    "        batch_score = compute_score_with_logits(pred, a.data).sum()\n",
    "        train_score += batch_score.item()\n",
    "    total_loss /= len(train_loader)\n",
    "    train_score /= len(train_loader.dataset)\n",
    "    print('total_loss=', total_loss, '; train_score=', train_score)\n",
    "    return train_score"
   ]
  },
  {
   "cell_type": "markdown",
   "metadata": {},
   "source": [
    "## Dictionary"
   ]
  },
  {
   "cell_type": "code",
   "execution_count": 2,
   "metadata": {},
   "outputs": [],
   "source": [
    "dict_path = 'data/pvqa/pvqa_dictionary.pkl'"
   ]
  },
  {
   "cell_type": "code",
   "execution_count": 3,
   "metadata": {},
   "outputs": [
    {
     "name": "stdout",
     "output_type": "stream",
     "text": [
      "loading dictionary from data/pvqa/pvqa_dictionary.pkl\n"
     ]
    },
    {
     "data": {
      "text/plain": [
       "4631"
      ]
     },
     "execution_count": 3,
     "metadata": {},
     "output_type": "execute_result"
    }
   ],
   "source": [
    "dictionary = Dictionary.load_from_file(dict_path)\n",
    "len(dictionary)"
   ]
  },
  {
   "cell_type": "markdown",
   "metadata": {},
   "source": [
    "## Answers candidates"
   ]
  },
  {
   "cell_type": "code",
   "execution_count": 4,
   "metadata": {},
   "outputs": [],
   "source": [
    "dataroot = 'data/pvqa'\n",
    "name = 'train'"
   ]
  },
  {
   "cell_type": "code",
   "execution_count": 5,
   "metadata": {},
   "outputs": [
    {
     "name": "stdout",
     "output_type": "stream",
     "text": [
      "4092\n"
     ]
    }
   ],
   "source": [
    "ans2label_path = os.path.join('data/pvqa', 'qas', 'trainval_ans2label.pkl')\n",
    "label2ans_path = os.path.join('data/pvqa', 'qas', 'trainval_label2ans.pkl')\n",
    "\n",
    "ans2label = pickle.load(open(ans2label_path, 'rb'))\n",
    "label2ans = pickle.load(open(label2ans_path, 'rb'))\n",
    "\n",
    "print(len(ans2label))"
   ]
  },
  {
   "cell_type": "markdown",
   "metadata": {},
   "source": [
    "## Images"
   ]
  },
  {
   "cell_type": "code",
   "execution_count": 6,
   "metadata": {},
   "outputs": [
    {
     "data": {
      "text/plain": [
       "3021"
      ]
     },
     "execution_count": 6,
     "metadata": {},
     "output_type": "execute_result"
    }
   ],
   "source": [
    "img_id2idx = pickle.load(open(os.path.join(dataroot, '%s_img_id2idx.pkl' % name), 'rb'))\n",
    "len(img_id2idx)"
   ]
  },
  {
   "cell_type": "code",
   "execution_count": 7,
   "metadata": {},
   "outputs": [
    {
     "data": {
      "text/html": [
       "<div>\n",
       "<style scoped>\n",
       "    .dataframe tbody tr th:only-of-type {\n",
       "        vertical-align: middle;\n",
       "    }\n",
       "\n",
       "    .dataframe tbody tr th {\n",
       "        vertical-align: top;\n",
       "    }\n",
       "\n",
       "    .dataframe thead th {\n",
       "        text-align: right;\n",
       "    }\n",
       "</style>\n",
       "<table border=\"1\" class=\"dataframe\">\n",
       "  <thead>\n",
       "    <tr style=\"text-align: right;\">\n",
       "      <th></th>\n",
       "      <th>image_id</th>\n",
       "      <th>image_w</th>\n",
       "      <th>image_h</th>\n",
       "      <th>num_boxes</th>\n",
       "      <th>boxes</th>\n",
       "      <th>features</th>\n",
       "    </tr>\n",
       "  </thead>\n",
       "  <tbody>\n",
       "    <tr>\n",
       "      <th>0</th>\n",
       "      <td>0</td>\n",
       "      <td>526</td>\n",
       "      <td>422</td>\n",
       "      <td>36</td>\n",
       "      <td>b'AAAAYP3wcEAAAABgIo5rQAAAAACzvHNAAAAAYHX2cEAA...</td>\n",
       "      <td>b'dk8pPwAAAAB0dbE/dJdRP7ItNT6cRQw+M/lbPwAAAADt...</td>\n",
       "    </tr>\n",
       "    <tr>\n",
       "      <th>1</th>\n",
       "      <td>1</td>\n",
       "      <td>492</td>\n",
       "      <td>357</td>\n",
       "      <td>36</td>\n",
       "      <td>b'AAAAADA7ekAAAAAArRFkQAAAAAB+yXxAAAAAoAoIakAA...</td>\n",
       "      <td>b'zZ1aPgAAAAA5K+A/IPgAQAeMlj6Iagw87Le0PmW7Bz34...</td>\n",
       "    </tr>\n",
       "    <tr>\n",
       "      <th>2</th>\n",
       "      <td>2</td>\n",
       "      <td>300</td>\n",
       "      <td>358</td>\n",
       "      <td>36</td>\n",
       "      <td>b'AAAA4DMhUUAAAACAu95OQAAAAKASFXJAAAAAwP/OdUAA...</td>\n",
       "      <td>b'ICXWPgAAAACMoIQ8AAAAAAAAAABUkgU+t7HNPwAAAABk...</td>\n",
       "    </tr>\n",
       "    <tr>\n",
       "      <th>3</th>\n",
       "      <td>3</td>\n",
       "      <td>350</td>\n",
       "      <td>576</td>\n",
       "      <td>36</td>\n",
       "      <td>b'AAAAoIKsJEAAAABgKBdOQAAAACCtTHRAAAAAADxUgUAA...</td>\n",
       "      <td>b'AAAAACmhfD8gPxQ+AAAAAJLhOD/AoCg9yGLfPwAAAAAA...</td>\n",
       "    </tr>\n",
       "    <tr>\n",
       "      <th>4</th>\n",
       "      <td>4</td>\n",
       "      <td>1340</td>\n",
       "      <td>742</td>\n",
       "      <td>36</td>\n",
       "      <td>b'AAAAYAJiYUAAAAAALpNSQAAAAOCj6pRAAAAA4KqghUAA...</td>\n",
       "      <td>b'AAAAADTl4EAAAAAAAAAAAAAAAACU+wg/hoONPgAAAAAR...</td>\n",
       "    </tr>\n",
       "    <tr>\n",
       "      <th>...</th>\n",
       "      <td>...</td>\n",
       "      <td>...</td>\n",
       "      <td>...</td>\n",
       "      <td>...</td>\n",
       "      <td>...</td>\n",
       "      <td>...</td>\n",
       "    </tr>\n",
       "    <tr>\n",
       "      <th>3016</th>\n",
       "      <td>3016</td>\n",
       "      <td>792</td>\n",
       "      <td>526</td>\n",
       "      <td>36</td>\n",
       "      <td>b'AAAAgPzTcEAAAADAzYFmQAAAAMB0lnNAAAAAAImcakAA...</td>\n",
       "      <td>b'0hSWPwAAAAA1IhA/hvqsP7F2kT8AAAAA6iWgPgAAAADU...</td>\n",
       "    </tr>\n",
       "    <tr>\n",
       "      <th>3017</th>\n",
       "      <td>3017</td>\n",
       "      <td>792</td>\n",
       "      <td>549</td>\n",
       "      <td>36</td>\n",
       "      <td>b'AAAAYBF4eEAAAAAABcVSQAAAAOB5q4JAAAAAAKxMYkAA...</td>\n",
       "      <td>b'AAAAAAAAAAAAAAAAFmDXPqBijj48T4s+AAAAAAAAAAAF...</td>\n",
       "    </tr>\n",
       "    <tr>\n",
       "      <th>3018</th>\n",
       "      <td>3018</td>\n",
       "      <td>792</td>\n",
       "      <td>528</td>\n",
       "      <td>36</td>\n",
       "      <td>b'AAAAoJpTTkAAAAAAAAAAAAAAACCJhIhAAAAAIL+xfEAA...</td>\n",
       "      <td>b'AAAAAAAAAAD0CfM9AAAAAAAAAABOsj1ARsQMQQAAAAA8...</td>\n",
       "    </tr>\n",
       "    <tr>\n",
       "      <th>3019</th>\n",
       "      <td>3019</td>\n",
       "      <td>792</td>\n",
       "      <td>528</td>\n",
       "      <td>36</td>\n",
       "      <td>b'AAAAoHQqNUAAAABgDgk4QAAAAEA6boNAAAAAYNhjeUAA...</td>\n",
       "      <td>b'AAAAAAAAAAD7Ajo+AAAAAAAAAAAJiiZAxzy6QAAAAABe...</td>\n",
       "    </tr>\n",
       "    <tr>\n",
       "      <th>3020</th>\n",
       "      <td>3020</td>\n",
       "      <td>792</td>\n",
       "      <td>528</td>\n",
       "      <td>36</td>\n",
       "      <td>b'AAAAwEQAhEAAAADAphZxQAAAAMDKmIVAAAAA4DnxdEAA...</td>\n",
       "      <td>b'mWtGPQAAAAA2He9ADNstPlQPWj4AAAAAAAAAAAAAAAC2...</td>\n",
       "    </tr>\n",
       "  </tbody>\n",
       "</table>\n",
       "<p>3021 rows × 6 columns</p>\n",
       "</div>"
      ],
      "text/plain": [
       "      image_id  image_w  image_h  num_boxes  \\\n",
       "0            0      526      422         36   \n",
       "1            1      492      357         36   \n",
       "2            2      300      358         36   \n",
       "3            3      350      576         36   \n",
       "4            4     1340      742         36   \n",
       "...        ...      ...      ...        ...   \n",
       "3016      3016      792      526         36   \n",
       "3017      3017      792      549         36   \n",
       "3018      3018      792      528         36   \n",
       "3019      3019      792      528         36   \n",
       "3020      3020      792      528         36   \n",
       "\n",
       "                                                  boxes  \\\n",
       "0     b'AAAAYP3wcEAAAABgIo5rQAAAAACzvHNAAAAAYHX2cEAA...   \n",
       "1     b'AAAAADA7ekAAAAAArRFkQAAAAAB+yXxAAAAAoAoIakAA...   \n",
       "2     b'AAAA4DMhUUAAAACAu95OQAAAAKASFXJAAAAAwP/OdUAA...   \n",
       "3     b'AAAAoIKsJEAAAABgKBdOQAAAACCtTHRAAAAAADxUgUAA...   \n",
       "4     b'AAAAYAJiYUAAAAAALpNSQAAAAOCj6pRAAAAA4KqghUAA...   \n",
       "...                                                 ...   \n",
       "3016  b'AAAAgPzTcEAAAADAzYFmQAAAAMB0lnNAAAAAAImcakAA...   \n",
       "3017  b'AAAAYBF4eEAAAAAABcVSQAAAAOB5q4JAAAAAAKxMYkAA...   \n",
       "3018  b'AAAAoJpTTkAAAAAAAAAAAAAAACCJhIhAAAAAIL+xfEAA...   \n",
       "3019  b'AAAAoHQqNUAAAABgDgk4QAAAAEA6boNAAAAAYNhjeUAA...   \n",
       "3020  b'AAAAwEQAhEAAAADAphZxQAAAAMDKmIVAAAAA4DnxdEAA...   \n",
       "\n",
       "                                               features  \n",
       "0     b'dk8pPwAAAAB0dbE/dJdRP7ItNT6cRQw+M/lbPwAAAADt...  \n",
       "1     b'zZ1aPgAAAAA5K+A/IPgAQAeMlj6Iagw87Le0PmW7Bz34...  \n",
       "2     b'ICXWPgAAAACMoIQ8AAAAAAAAAABUkgU+t7HNPwAAAABk...  \n",
       "3     b'AAAAACmhfD8gPxQ+AAAAAJLhOD/AoCg9yGLfPwAAAAAA...  \n",
       "4     b'AAAAADTl4EAAAAAAAAAAAAAAAACU+wg/hoONPgAAAAAR...  \n",
       "...                                                 ...  \n",
       "3016  b'0hSWPwAAAAA1IhA/hvqsP7F2kT8AAAAA6iWgPgAAAADU...  \n",
       "3017  b'AAAAAAAAAAAAAAAAFmDXPqBijj48T4s+AAAAAAAAAAAF...  \n",
       "3018  b'AAAAAAAAAAD0CfM9AAAAAAAAAABOsj1ARsQMQQAAAAA8...  \n",
       "3019  b'AAAAAAAAAAD7Ajo+AAAAAAAAAAAJiiZAxzy6QAAAAABe...  \n",
       "3020  b'mWtGPQAAAAA2He9ADNstPlQPWj4AAAAAAAAAAAAAAAC2...  \n",
       "\n",
       "[3021 rows x 6 columns]"
      ]
     },
     "execution_count": 7,
     "metadata": {},
     "output_type": "execute_result"
    }
   ],
   "source": [
    "# Arquivos com os bbox e as features das imagens\n",
    "tsv_file = os.path.join(dataroot, 'images/%s%s.csv' % (name, ''))\n",
    "\n",
    "FIELDNAMES = ['image_id', 'image_w', 'image_h', 'num_boxes', 'boxes', 'features']\n",
    "pd.read_csv(tsv_file, delimiter='\\t', names=FIELDNAMES)"
   ]
  },
  {
   "cell_type": "code",
   "execution_count": 8,
   "metadata": {},
   "outputs": [
    {
     "name": "stdout",
     "output_type": "stream",
     "text": [
      "(36, 4) (36, 2048)\n"
     ]
    }
   ],
   "source": [
    "image_data = load_tsv(tsv_file)\n",
    "print(image_data[0]['boxes'].shape, image_data[0]['features'].shape)"
   ]
  },
  {
   "cell_type": "code",
   "execution_count": 9,
   "metadata": {},
   "outputs": [
    {
     "name": "stdout",
     "output_type": "stream",
     "text": [
      "(3021, 36, 2048)\n",
      "(3021, 36, 4)\n"
     ]
    }
   ],
   "source": [
    "#Features\n",
    "print(np.array([datum['features'] for datum in image_data]).shape)\n",
    "\n",
    "#Spatial\n",
    "print(np.array([datum['boxes'] for datum in image_data]).shape)"
   ]
  },
  {
   "cell_type": "markdown",
   "metadata": {},
   "source": [
    "### Input data"
   ]
  },
  {
   "cell_type": "code",
   "execution_count": 10,
   "metadata": {},
   "outputs": [
    {
     "data": {
      "text/plain": [
       "{'question_id': 100001000,\n",
       " 'image_id': 'train_0001',\n",
       " 'image': 1,\n",
       " 'question': 'What form a submucosal nodule composed of tumor cells embedded in dense fibrous tissue?',\n",
       " 'answer': {'labels': [345], 'scores': [1]},\n",
       " 'ans_sent': 'carcinoid tumors',\n",
       " 'ans_valid': 1}"
      ]
     },
     "execution_count": 10,
     "metadata": {},
     "output_type": "execute_result"
    }
   ],
   "source": [
    "\"\"\"\n",
    "vqa = pickle.load(open(os.path.join(dataroot, 'qas/%s_vqa.pkl' % name), 'rb'))\n",
    "entry = {'question_id': qa['question_id'],\n",
    "                 'image_id': qa['img_id'],\n",
    "                 'image': imd_id2val[qa['img_id']],\n",
    "                 'question': qa['sent'],\n",
    "                 'answer': answer,\n",
    "                 'ans_sent': ans,\n",
    "                 'ans_valid': ans_valid}\n",
    "\"\"\"\n",
    "\n",
    "entries = _load_dataset_pvqa(dataroot, name, img_id2idx, label2ans, ans2label)\n",
    "entries[0]"
   ]
  },
  {
   "cell_type": "markdown",
   "metadata": {},
   "source": [
    "## Preparing the training set"
   ]
  },
  {
   "cell_type": "code",
   "execution_count": 11,
   "metadata": {},
   "outputs": [],
   "source": [
    "train_dset = PVQAFeatureDataset('train', dictionary, adaptive=False)\n",
    "val_dset = PVQAFeatureDataset('val', dictionary, adaptive=False)"
   ]
  },
  {
   "cell_type": "code",
   "execution_count": 12,
   "metadata": {},
   "outputs": [
    {
     "data": {
      "text/plain": [
       "4092"
      ]
     },
     "execution_count": 12,
     "metadata": {},
     "output_type": "execute_result"
    }
   ],
   "source": [
    "train_dset.num_ans_candidates"
   ]
  },
  {
   "cell_type": "code",
   "execution_count": 32,
   "metadata": {},
   "outputs": [],
   "source": [
    "#Train Dataset\n",
    "train_sampler = None\n",
    "train_loader = DataLoader(train_dset, 128, shuffle=(train_sampler is None),\n",
    "                                  num_workers=0, pin_memory=True)"
   ]
  },
  {
   "cell_type": "markdown",
   "metadata": {},
   "source": [
    "## Preparing BAN Model"
   ]
  },
  {
   "cell_type": "code",
   "execution_count": 33,
   "metadata": {},
   "outputs": [],
   "source": [
    "model = BanModel(ntoken=train_dset.dictionary.ntoken,\n",
    "                     num_ans_candidates=train_dset.num_ans_candidates,\n",
    "                     num_hid=1280, v_dim=train_dset.v_dim,\n",
    "                     op='c',\n",
    "                     gamma=8, qa_bl=True)"
   ]
  },
  {
   "cell_type": "code",
   "execution_count": 34,
   "metadata": {},
   "outputs": [
    {
     "name": "stdout",
     "output_type": "stream",
     "text": [
      "weight_init.shape: torch.Size([4631, 300])\n",
      "self ntoken:  4631\n"
     ]
    }
   ],
   "source": [
    "w_emb_path = 'data/pvqa/glove_pvqa_300d.npy'\n",
    "tfidf = None\n",
    "weights = None\n",
    "\n",
    "#Inicialização dos embedding\n",
    "\"\"\"\n",
    "    Model: Glove300d\n",
    "    Cada palavra é um vetor de dim = 300\n",
    "\"\"\"\n",
    "\n",
    "model.w_emb.init_embedding(w_emb_path, tfidf, weights)"
   ]
  },
  {
   "cell_type": "markdown",
   "metadata": {},
   "source": [
    "## Train"
   ]
  },
  {
   "cell_type": "code",
   "execution_count": 35,
   "metadata": {},
   "outputs": [],
   "source": [
    "#Put on gpu\n",
    "arg_gpu = 0\n",
    "model.cuda()\n",
    "torch.cuda.set_device(arg_gpu)\n",
    "model.cuda(arg_gpu)\n",
    "\n",
    "optimizer = torch.optim.Adamax(filter(lambda p: p.requires_grad, model.parameters()))"
   ]
  },
  {
   "cell_type": "code",
   "execution_count": 36,
   "metadata": {},
   "outputs": [
    {
     "name": "stderr",
     "output_type": "stream",
     "text": [
      "100%|████████████████████████████████████████████████████████████████████████████████| 155/155 [00:35<00:00,  4.42it/s]"
     ]
    },
    {
     "name": "stdout",
     "output_type": "stream",
     "text": [
      "total_loss= 25.76991543616018 ; train_score= 0.2507719564667173\n",
      "eval_score= 0.2507719564667173\n"
     ]
    },
    {
     "name": "stderr",
     "output_type": "stream",
     "text": [
      "\n"
     ]
    }
   ],
   "source": [
    "best_eval_score = 0\n",
    "EPOCHS = 5\n",
    "\n",
    "for epoch in range(0, 1):\n",
    "    adjust_learning_rate(optimizer, epoch, EPOCHS)\n",
    "    train_score = train(train_loader, model, optimizer, epoch)\n",
    "    print('train_score=', train_score)"
   ]
  },
  {
   "cell_type": "code",
   "execution_count": null,
   "metadata": {},
   "outputs": [],
   "source": []
  }
 ],
 "metadata": {
  "kernelspec": {
   "display_name": "pytorch",
   "language": "python",
   "name": "pytorch"
  },
  "language_info": {
   "codemirror_mode": {
    "name": "ipython",
    "version": 3
   },
   "file_extension": ".py",
   "mimetype": "text/x-python",
   "name": "python",
   "nbconvert_exporter": "python",
   "pygments_lexer": "ipython3",
   "version": "3.8.5"
  }
 },
 "nbformat": 4,
 "nbformat_minor": 4
}
