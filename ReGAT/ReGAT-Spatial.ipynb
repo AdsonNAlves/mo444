{
 "cells": [
  {
   "cell_type": "code",
   "execution_count": 1,
   "metadata": {},
   "outputs": [],
   "source": [
    "import os\n",
    "from os.path import join, exists\n",
    "import argparse\n",
    "import torch\n",
    "import torch.nn as nn\n",
    "from torch.utils.data import DataLoader, ConcatDataset, random_split\n",
    "import numpy as np\n",
    "import random\n",
    "import json\n",
    "\n",
    "#from dataset import Dictionary, VQAFeatureDataset, VisualGenomeFeatureDataset\n",
    "from dataset_modify import PVQAFeatureDataset, tfidf_from_questions, Dictionary\n",
    "from dataset_cp_v2 import VQA_cp_Dataset, Image_Feature_Loader\n",
    "from model.regat import build_regat\n",
    "from config.parser import parse_with_config\n",
    "from train import instance_bce_with_logits, compute_score_with_logits, calc_entropy, get_answer, get_target, make_json\n",
    "import utils\n",
    "from utils import trim_collate"
   ]
  },
  {
   "cell_type": "code",
   "execution_count": 2,
   "metadata": {},
   "outputs": [],
   "source": [
    "device = torch.device(\"cuda\")\n",
    "batch_size = 16\n",
    "data_folder = './data'"
   ]
  },
  {
   "cell_type": "code",
   "execution_count": 3,
   "metadata": {},
   "outputs": [],
   "source": [
    "fusion = 'ban'\n",
    "ban_gamma = 1\n",
    "mutan_gamma = 2"
   ]
  },
  {
   "cell_type": "code",
   "execution_count": 4,
   "metadata": {},
   "outputs": [],
   "source": [
    "fusion_methods = fusion+\"_\"+str(ban_gamma)"
   ]
  },
  {
   "cell_type": "code",
   "execution_count": 5,
   "metadata": {},
   "outputs": [
    {
     "name": "stdout",
     "output_type": "stream",
     "text": [
      "loading dictionary from ./data\\pvqa/pvqa_dictionary.pkl\n"
     ]
    }
   ],
   "source": [
    "dictionary = Dictionary.load_from_file(join(data_folder, 'pvqa/pvqa_dictionary.pkl'))"
   ]
  },
  {
   "cell_type": "code",
   "execution_count": 6,
   "metadata": {},
   "outputs": [
    {
     "name": "stdout",
     "output_type": "stream",
     "text": [
      "['where', 'are', 'liver', 'stem', 'cells', 'oval', 'located', 'in', 'the', 'canals']\n",
      "Length dictionary: 4631\n"
     ]
    }
   ],
   "source": [
    "print(dictionary.idx2word[0:10])\n",
    "print(f'Length dictionary: {dictionary.ntoken}')"
   ]
  },
  {
   "cell_type": "markdown",
   "metadata": {},
   "source": [
    "## Creating PVQA Dataset"
   ]
  },
  {
   "cell_type": "code",
   "execution_count": 7,
   "metadata": {},
   "outputs": [],
   "source": [
    "relation_type = 'implicit'\n",
    "adaptive = False\n",
    "imp_pos_emb_dim = 64"
   ]
  },
  {
   "cell_type": "code",
   "execution_count": 8,
   "metadata": {},
   "outputs": [
    {
     "name": "stdout",
     "output_type": "stream",
     "text": [
      "PVQA Feature Dataset's beeing created\n",
      "\n",
      "Training dataset's beeing created\n",
      "Setting semantic adj matrix to None...\n",
      "Setting spatial adj matrix to None...\n"
     ]
    }
   ],
   "source": [
    "print(\"PVQA Feature Dataset's beeing created\")\n",
    "print(\"\\nTraining dataset's beeing created\")\n",
    "train_dset = PVQAFeatureDataset(\n",
    "                'train', dictionary, relation_type,\n",
    "                adaptive=adaptive, pos_emb_dim=imp_pos_emb_dim)\n",
    "train_dset.spatial_adj_matrix = np.ones((3021,36,36))"
   ]
  },
  {
   "cell_type": "code",
   "execution_count": 9,
   "metadata": {},
   "outputs": [
    {
     "name": "stdout",
     "output_type": "stream",
     "text": [
      "\n",
      "Validation dataset's beeing created\n",
      "Setting semantic adj matrix to None...\n",
      "Setting spatial adj matrix to None...\n",
      "\n",
      "Test dataset's beeing created\n",
      "Setting semantic adj matrix to None...\n",
      "Setting spatial adj matrix to None...\n"
     ]
    }
   ],
   "source": [
    "print(\"\\nValidation dataset's beeing created\")\n",
    "val_dset = PVQAFeatureDataset(\n",
    "                'val', dictionary, relation_type, adaptive=adaptive,\n",
    "                pos_emb_dim=imp_pos_emb_dim)\n",
    "val_dset.spatial_adj_matrix = np.ones((3021,36,36))\n",
    "print(\"\\nTest dataset's beeing created\")\n",
    "test_dset = PVQAFeatureDataset(\n",
    "                'test', dictionary, relation_type,\n",
    "                adaptive=adaptive, pos_emb_dim=imp_pos_emb_dim)\n",
    "test_dset.spatial_adj_matrix = np.ones((3021,36,36))"
   ]
  },
  {
   "cell_type": "markdown",
   "metadata": {},
   "source": [
    "### Verifying dimension"
   ]
  },
  {
   "cell_type": "code",
   "execution_count": 10,
   "metadata": {},
   "outputs": [
    {
     "name": "stdout",
     "output_type": "stream",
     "text": [
      "torch.Size([16, 36, 36])\n",
      "(16, 36, 36, 4092)\n"
     ]
    }
   ],
   "source": [
    "train_loader = DataLoader(train_dset, batch_size, shuffle=True, collate_fn=trim_collate)\n",
    "for i, (v, norm_bb, q, target, _, _, bb, spa_adj_matrix, sem_adj_matrix) in enumerate(train_loader):\n",
    "    print(spa_adj_matrix.shape)\n",
    "    print(np.tile(spa_adj_matrix[:,:,:, np.newaxis], [1,1,1,4092]).shape)\n",
    "    break"
   ]
  },
  {
   "cell_type": "code",
   "execution_count": 11,
   "metadata": {},
   "outputs": [
    {
     "name": "stdout",
     "output_type": "stream",
     "text": [
      "torch.Size([16, 36, 36])\n",
      "(16, 36, 36, 4092)\n"
     ]
    }
   ],
   "source": [
    "val_loader = DataLoader(val_dset, batch_size, shuffle=True, collate_fn=trim_collate)\n",
    "for i, (v, norm_bb, q, target, _, _, bb, spa_adj_matrix, sem_adj_matrix) in enumerate(val_loader):\n",
    "    print(spa_adj_matrix.shape)\n",
    "    print(np.tile(spa_adj_matrix[:,:,:, np.newaxis], [1,1,1,4092]).shape)\n",
    "    break"
   ]
  },
  {
   "cell_type": "code",
   "execution_count": 12,
   "metadata": {},
   "outputs": [
    {
     "name": "stdout",
     "output_type": "stream",
     "text": [
      "torch.Size([16, 36, 36])\n",
      "(16, 36, 36, 4092)\n"
     ]
    }
   ],
   "source": [
    "test_loader = DataLoader(test_dset, batch_size, shuffle=True, collate_fn=trim_collate)\n",
    "for i, (v, norm_bb, q, target, _, _, bb, spa_adj_matrix, sem_adj_matrix) in enumerate(test_loader):\n",
    "    print(spa_adj_matrix.shape)\n",
    "    print(np.tile(spa_adj_matrix[:,:,:, np.newaxis], [1,1,1,4092]).shape)\n",
    "    break"
   ]
  },
  {
   "cell_type": "code",
   "execution_count": 13,
   "metadata": {},
   "outputs": [
    {
     "name": "stdout",
     "output_type": "stream",
     "text": [
      "Object in the image and embedding dimension: torch.Size([36, 2048])\n",
      "Bounding box: (36, 4)\n",
      "Question length: torch.Size([14])\n",
      "Target onehot: torch.Size([4092])\n"
     ]
    }
   ],
   "source": [
    "print(f'Object in the image and embedding dimension: {train_dset[0][0].shape}')\n",
    "print(f'Bounding box: {train_dset[0][1].shape}')\n",
    "print(f'Question length: {train_dset[0][2].shape}')\n",
    "print(f'Target onehot: {train_dset[0][3].shape}')"
   ]
  },
  {
   "cell_type": "markdown",
   "metadata": {},
   "source": [
    "## Bounding box on the image"
   ]
  },
  {
   "cell_type": "code",
   "execution_count": 14,
   "metadata": {},
   "outputs": [
    {
     "data": {
      "image/jpeg": "[encoded data removed]",
      "text/plain": [
       "<IPython.core.display.Image object>"
      ]
     },
     "execution_count": 14,
     "metadata": {},
     "output_type": "execute_result"
    }
   ],
   "source": [
    "from IPython.display import Image\n",
    "image_file = 'data/pvqa/images/test/test_0033.jpg'\n",
    "Image(filename=image_file) "
   ]
  },
  {
   "cell_type": "code",
   "execution_count": 15,
   "metadata": {},
   "outputs": [
    {
     "data": {
      "image/png": "[encoded data removed]",
      "text/plain": [
       "<Figure size 432x288 with 1 Axes>"
      ]
     },
     "metadata": {
      "needs_background": "light"
     },
     "output_type": "display_data"
    }
   ],
   "source": [
    "# importing cv2 \n",
    "import cv2\n",
    "import matplotlib.pyplot as plt\n",
    "\n",
    "# Reading an image in default mode\n",
    "image = cv2.imread(image_file)\n",
    "image = cv2.cvtColor(image, cv2.COLOR_BGR2RGB)\n",
    "\n",
    "ret = test_dset[33][1]\n",
    "bbox = ret.copy()\n",
    "bbox[:,0] *= image.shape[0]\n",
    "bbox[:,1] *= image.shape[1]\n",
    "bbox[:,2] *= image.shape[0]\n",
    "bbox[:,3] *= image.shape[1]\n",
    "bbox\n",
    "\n",
    "   \n",
    "# Blue color in BGR\n",
    "color = (255, 0, 0)\n",
    "  \n",
    "# Line thickness of 2 px\n",
    "thickness = 2\n",
    "\n",
    "for point in bbox:\n",
    "    p1 = (round(point[0]), round(point[2]))\n",
    "    p2 = (round(point[1]), round(point[3]))\n",
    "    image = cv2.rectangle(image, p1, p2, color, thickness)\n",
    "\n",
    "plt.imshow(image)\n",
    "plt.show()"
   ]
  },
  {
   "cell_type": "markdown",
   "metadata": {},
   "source": [
    "## Building model"
   ]
  },
  {
   "cell_type": "code",
   "execution_count": 16,
   "metadata": {},
   "outputs": [],
   "source": [
    "from model.fusion import BAN, BUTD, MuTAN\n",
    "from model.language_model import WordEmbedding, QuestionEmbedding,\\\n",
    "                                 QuestionSelfAttention\n",
    "from model.relation_encoder import ImplicitRelationEncoder,\\\n",
    "                                   ExplicitRelationEncoder\n",
    "from model.classifier import SimpleClassifier"
   ]
  },
  {
   "cell_type": "code",
   "execution_count": 17,
   "metadata": {},
   "outputs": [],
   "source": [
    "op = 'c'\n",
    "num_hid = 1024\n",
    "relation_dim = 1024\n",
    "relation_type = 'spatial'\n",
    "dir_num = 2\n",
    "nongt_dim = 20\n",
    "num_heads = 16\n",
    "num_steps = 1\n",
    "residual_connection = True\n",
    "label_bias = True"
   ]
  },
  {
   "cell_type": "code",
   "execution_count": 18,
   "metadata": {},
   "outputs": [],
   "source": [
    "class ReGAT(nn.Module):\n",
    "    def __init__(self, dataset, w_emb, q_emb, q_att, v_relation,\n",
    "                 joint_embedding, classifier, glimpse, fusion, relation_type):\n",
    "        super(ReGAT, self).__init__()\n",
    "        self.name = \"ReGAT_%s_%s\" % (relation_type, fusion)\n",
    "        self.relation_type = relation_type\n",
    "        self.fusion = fusion\n",
    "        self.dataset = dataset\n",
    "        self.glimpse = glimpse\n",
    "        self.w_emb = w_emb\n",
    "        self.q_emb = q_emb\n",
    "        self.q_att = q_att\n",
    "        self.v_relation = v_relation\n",
    "        self.joint_embedding = joint_embedding\n",
    "        self.classifier = classifier\n",
    "\n",
    "    def forward(self, v, b, q, implicit_pos_emb, sem_adj_matrix,\n",
    "                spa_adj_matrix, labels):\n",
    "        \"\"\"Forward\n",
    "        v: [batch, num_objs, obj_dim]\n",
    "        b: [batch, num_objs, b_dim]\n",
    "        q: [batch_size, seq_length]\n",
    "        pos: [batch_size, num_objs, nongt_dim, emb_dim]\n",
    "        sem_adj_matrix: [batch_size, num_objs, num_objs, num_edge_labels]\n",
    "        spa_adj_matrix: [batch_size, num_objs, num_objs, num_edge_labels]\n",
    "\n",
    "        return: logits, not probs\n",
    "        \"\"\"\n",
    "        w_emb = self.w_emb(q)\n",
    "        q_emb_seq = self.q_emb.forward_all(w_emb)  # [batch, q_len, q_dim]\n",
    "        q_emb_self_att = self.q_att(q_emb_seq)\n",
    "\n",
    "        # [batch_size, num_rois, out_dim]\n",
    "        if self.relation_type == \"semantic\":\n",
    "            v_emb = self.v_relation.forward(v, sem_adj_matrix, q_emb_self_att)\n",
    "        elif self.relation_type == \"spatial\":\n",
    "            v_emb = self.v_relation.forward(v, spa_adj_matrix, q_emb_self_att)\n",
    "        else:  # implicit\n",
    "            v_emb = self.v_relation.forward(v, implicit_pos_emb,\n",
    "                                            q_emb_self_att)\n",
    "\n",
    "        if self.fusion == \"ban\":\n",
    "            joint_emb, att = self.joint_embedding(v_emb, q_emb_seq, b)\n",
    "        elif self.fusion == \"butd\":\n",
    "            q_emb = self.q_emb(w_emb)  # [batch, q_dim]\n",
    "            joint_emb, att = self.joint_embedding(v_emb, q_emb)\n",
    "        else:  # mutan\n",
    "            joint_emb, att = self.joint_embedding(v_emb, q_emb_self_att)\n",
    "        if self.classifier:\n",
    "            logits = self.classifier(joint_emb)\n",
    "        else:\n",
    "            logits = joint_emb\n",
    "        return logits, att"
   ]
  },
  {
   "cell_type": "code",
   "execution_count": 19,
   "metadata": {},
   "outputs": [],
   "source": [
    "def build_regat(dataset, relation_type, fusion, op,  num_hid , relation_dim, dir_num, spa_label_num, imp_pos_emb_dim, nongt_dim, num_heads, num_steps, residual_connection, label_bias, mutan_gamma):\n",
    "    print(\"Building ReGAT model with %s relation and %s fusion method\" %\n",
    "          (relation_type, fusion))\n",
    "    w_emb = WordEmbedding(dataset.dictionary.ntoken, 300, .0, op)\n",
    "    q_emb = QuestionEmbedding(300 if 'c' not in op else 600,\n",
    "                              num_hid, 1, False, .0)\n",
    "    q_att = QuestionSelfAttention(num_hid, .2)\n",
    "\n",
    "    if relation_type == \"spatial\":\n",
    "        v_relation = ExplicitRelationEncoder(\n",
    "                        dataset.v_dim, num_hid, relation_dim,\n",
    "                        dir_num, spa_label_num,\n",
    "                        num_heads=num_heads,\n",
    "                        num_steps=num_steps, nongt_dim=nongt_dim,\n",
    "                        residual_connection=residual_connection,\n",
    "                        label_bias=label_bias)\n",
    "    else:\n",
    "        v_relation = ImplicitRelationEncoder(\n",
    "                        dataset.v_dim, num_hid, relation_dim,\n",
    "                        dir_num, imp_pos_emb_dim, nongt_dim,\n",
    "                        num_heads=num_heads, num_steps=num_steps,\n",
    "                        residual_connection=residual_connection,\n",
    "                        label_bias = label_bias)\n",
    "\n",
    "    classifier = SimpleClassifier(num_hid, num_hid * 2,\n",
    "                                  dataset.num_ans_candidates, 0.5)\n",
    "    gamma = 0\n",
    "    if fusion == \"ban\":\n",
    "        joint_embedding = BAN(relation_dim, num_hid, ban_gamma)\n",
    "        gamma = ban_gamma\n",
    "    elif fusion == \"butd\":\n",
    "        joint_embedding = BUTD(relation_dim, num_hid, num_hid)\n",
    "    else:\n",
    "        joint_embedding = MuTAN(relation_dim, num_hid,\n",
    "                                dataset.num_ans_candidates, mutan_gamma)\n",
    "        gamma = mutan_gamma\n",
    "        classifier = None\n",
    "    return ReGAT(dataset, w_emb, q_emb, q_att, v_relation, joint_embedding,\n",
    "                 classifier, gamma, fusion, relation_type)"
   ]
  },
  {
   "cell_type": "code",
   "execution_count": 20,
   "metadata": {},
   "outputs": [
    {
     "name": "stdout",
     "output_type": "stream",
     "text": [
      "Building ReGAT model with spatial relation and ban fusion method\n",
      "In ExplicitRelationEncoder, num of graph propogation steps: 1, residual_connection: True\n"
     ]
    }
   ],
   "source": [
    "model = build_regat(dataset = train_dset, relation_type = relation_type, fusion=fusion, \n",
    "                op = op,  num_hid = num_hid , relation_dim = relation_dim, dir_num = dir_num, spa_label_num = 1, \n",
    "                imp_pos_emb_dim =  imp_pos_emb_dim, nongt_dim = nongt_dim, num_heads = num_heads, num_steps = num_steps, \n",
    "                residual_connection = residual_connection, label_bias= label_bias, mutan_gamma = mutan_gamma).to(device)"
   ]
  },
  {
   "cell_type": "markdown",
   "metadata": {},
   "source": [
    "# Training"
   ]
  },
  {
   "cell_type": "code",
   "execution_count": 21,
   "metadata": {},
   "outputs": [],
   "source": [
    "epochs = 20"
   ]
  },
  {
   "cell_type": "code",
   "execution_count": 22,
   "metadata": {},
   "outputs": [],
   "source": [
    "train_loader = DataLoader(train_dset, batch_size, shuffle=True, collate_fn=trim_collate)\n",
    "eval_loader = DataLoader(val_dset, batch_size, shuffle=False, collate_fn=trim_collate)\n",
    "test_loader = DataLoader(train_dset, batch_size, shuffle=True, collate_fn=trim_collate)"
   ]
  },
  {
   "cell_type": "code",
   "execution_count": 23,
   "metadata": {},
   "outputs": [
    {
     "name": "stdout",
     "output_type": "stream",
     "text": [
      "saved_models\\ReGAT_spatial_jup20_spatial\n"
     ]
    }
   ],
   "source": [
    "output_meta_folder = join('saved_models', \"ReGAT_spatial_jup20_%s\" % relation_type)\n",
    "print(output_meta_folder)\n",
    "utils.create_dir(output_meta_folder)"
   ]
  },
  {
   "cell_type": "code",
   "execution_count": 24,
   "metadata": {},
   "outputs": [
    {
     "name": "stdout",
     "output_type": "stream",
     "text": [
      "saved_models\\ReGAT_spatial_jup20_spatial/ban_1_implicit_PVQA_20_epochs\n"
     ]
    }
   ],
   "source": [
    "output = output_meta_folder+\"/ban_1_implicit_PVQA_20_epochs\"\n",
    "print(output)\n",
    "utils.create_dir(output)"
   ]
  },
  {
   "cell_type": "code",
   "execution_count": 25,
   "metadata": {},
   "outputs": [],
   "source": [
    "import os\n",
    "import time\n",
    "import torch\n",
    "import torch.nn as nn\n",
    "import torch.nn.functional as F\n",
    "from torch.autograd import Variable\n",
    "import torch.optim.lr_scheduler as lr_scheduler\n",
    "from tqdm import tqdm\n",
    "import json\n",
    "import numpy as np\n",
    "import datetime\n",
    "\n",
    "from dataset_modify import question_types, get_q_type\n",
    "import utils\n",
    "from model.position_emb import prepare_graph_variables"
   ]
  },
  {
   "cell_type": "code",
   "execution_count": 26,
   "metadata": {},
   "outputs": [],
   "source": [
    "def training(model, train_loader, eval_loader, test_loader, \n",
    "             epochs, base_lr, lr_decay_start, lr_decay_rate, lr_decay_step, grad_clip,\n",
    "             weight_decay, output, nongt_dim, imp_pos_emb_dim, spa_label_num, sem_label_num,\n",
    "             device=torch.device(\"cuda\")):\n",
    "    N = len(train_loader.dataset)\n",
    "    lr_default = base_lr\n",
    "    lr_decay_based_on_val = True\n",
    "    num_epochs = epochs\n",
    "    lr_decay_epochs = range(lr_decay_start, num_epochs, lr_decay_step)\n",
    "    gradual_warmup_steps = [0.5 * lr_default, 1.0 * lr_default,\n",
    "                            1.5 * lr_default, 2.0 * lr_default]\n",
    "\n",
    "    optim = torch.optim.Adamax(filter(lambda p: p.requires_grad,\n",
    "                                      model.parameters()),\n",
    "                               lr=lr_default, betas=(0.9, 0.999), eps=1e-8,\n",
    "                               weight_decay=weight_decay) \n",
    "\n",
    "    logger = utils.Logger(os.path.join(output, 'log.txt'))\n",
    "    best_eval_score = 0\n",
    "\n",
    "    #utils.print_model(model, logger)\n",
    "    logger.write('optim: adamax lr=%.4f, decay_step=%d, decay_rate=%.2f,'\n",
    "                 % (lr_default, lr_decay_step, lr_decay_rate) + 'grad_clip=%.2f' % 0.25)\n",
    "    logger.write('LR decay epochs: '+','.join(\n",
    "                                        [str(i) for i in lr_decay_epochs]))\n",
    "    last_eval_score, eval_score = 0, 0\n",
    "    relation_type = train_loader.dataset.relation_type\n",
    "\n",
    "    for epoch in range(0, num_epochs):\n",
    "        total_norm, count_norm = 0, 0\n",
    "        total_loss, train_score = 0, 0\n",
    "        count, average_loss, att_entropy = 0, 0, 0\n",
    "        t = time.time()\n",
    "        if epoch < len(gradual_warmup_steps):\n",
    "            for i in range(len(optim.param_groups)):\n",
    "                optim.param_groups[i]['lr'] = gradual_warmup_steps[epoch]\n",
    "            logger.write('gradual warmup lr: %.4f' %\n",
    "                         optim.param_groups[-1]['lr'])\n",
    "        elif (epoch in lr_decay_epochs or\n",
    "              eval_score < last_eval_score and lr_decay_based_on_val):\n",
    "            for i in range(len(optim.param_groups)):\n",
    "                optim.param_groups[i]['lr'] *= lr_decay_rate\n",
    "            logger.write('decreased lr: %.4f' % optim.param_groups[-1]['lr'])\n",
    "        else:\n",
    "            logger.write('lr: %.4f' % optim.param_groups[-1]['lr'])\n",
    "        last_eval_score = eval_score\n",
    "\n",
    "        mini_batch_count = 0\n",
    "        batch_multiplier = 1\n",
    "        for i, (v, norm_bb, q, target, _, _, bb, spa_adj_matrix,\n",
    "                sem_adj_matrix) in enumerate(train_loader):\n",
    "            batch_size = v.size(0)\n",
    "            num_objects = v.size(1)\n",
    "            if mini_batch_count == 0:\n",
    "                optim.step()\n",
    "                optim.zero_grad()\n",
    "                mini_batch_count = batch_multiplier\n",
    "\n",
    "            v = Variable(v).to(device)\n",
    "            norm_bb = Variable(norm_bb).to(device)\n",
    "            q = Variable(q).to(device)\n",
    "            target = Variable(target).to(device)\n",
    "            spa_adj_matrix = np.tile(spa_adj_matrix[:,:,:, np.newaxis], [1,1,1,1])\n",
    "            spa_adj_matrix = torch.from_numpy(spa_adj_matrix)\n",
    "            spa_adj_matrix = Variable(spa_adj_matrix).to(device)\n",
    "            \n",
    "            _, sem_adj_matrix, _ = prepare_graph_variables(\n",
    "                relation_type, bb, sem_adj_matrix, spa_adj_matrix, num_objects,\n",
    "                nongt_dim, imp_pos_emb_dim, spa_label_num,\n",
    "                sem_label_num, device)\n",
    "            pos_emb = None\n",
    "            \n",
    "            pred, att = model(v, norm_bb, q, pos_emb, sem_adj_matrix,\n",
    "                              spa_adj_matrix, target)\n",
    "            loss = instance_bce_with_logits(pred, target)\n",
    "\n",
    "            loss /= batch_multiplier\n",
    "            loss.backward()\n",
    "            mini_batch_count -= 1\n",
    "            total_norm += nn.utils.clip_grad_norm_(model.parameters(),\n",
    "                                                   grad_clip)\n",
    "            count_norm += 1\n",
    "            batch_score = compute_score_with_logits(pred, target, device).sum()\n",
    "            total_loss += loss.data.item() * batch_multiplier * v.size(0)\n",
    "            train_score += batch_score\n",
    "\n",
    "        total_loss /= N\n",
    "        train_score = 100 * train_score / N\n",
    "        \n",
    "        if eval_loader is not None:\n",
    "            eval_score, bound, entropy = evaluate(model, eval_loader, nongt_dim, imp_pos_emb_dim, spa_label_num, sem_label_num, device)\n",
    "\n",
    "        logger.write('epoch %d, time: %.2f' % (epoch, time.time()-t))\n",
    "        logger.write('\\ttrain_loss: %.2f, norm: %.4f, score: %.2f'\n",
    "                     % (total_loss, total_norm / count_norm, train_score))\n",
    "        \n",
    "        if eval_loader is not None:\n",
    "            logger.write('\\teval score: %.2f (%.2f)'\n",
    "                         % (100 * eval_score, 100 * bound))\n",
    "            if entropy is not None:\n",
    "                info = ''\n",
    "                for i in range(entropy.size(0)):\n",
    "                    info = info + ' %.2f' % entropy[i]\n",
    "                logger.write('\\tentropy: ' + info)\n",
    "        \n",
    "        if epoch == num_epochs - 1 and test_loader is not None:\n",
    "            logger.write('Final epoch %d, time: %.2f, test evaluation' % (epoch, time.time()-t))\n",
    "            test_score = test_evaluate(model, test_loader, nongt_dim, imp_pos_emb_dim, spa_label_num, sem_label_num, output, 'pvqa', device)\n",
    "            logger.write('\\ttest score: %.2f'\n",
    "                         % (100 * test_score))\n",
    "                \n",
    "                \n",
    "@torch.no_grad()\n",
    "def evaluate(model, dataloader, \n",
    "             nongt_dim, imp_pos_emb_dim, spa_label_num, sem_label_num, device):\n",
    "    model.eval()\n",
    "    relation_type = dataloader.dataset.relation_type\n",
    "    score = 0\n",
    "    upper_bound = 0\n",
    "    num_data = 0\n",
    "    N = len(dataloader.dataset)\n",
    "    entropy = None\n",
    "    if model.fusion == \"ban\":\n",
    "        entropy = torch.Tensor(model.glimpse).zero_().to(device)\n",
    "\n",
    "    for i, (v, norm_bb, q, target, _, _, bb, spa_adj_matrix,\n",
    "            sem_adj_matrix) in enumerate(dataloader):\n",
    "        batch_size = v.size(0)\n",
    "        num_objects = v.size(1)\n",
    "        v = Variable(v).to(device)\n",
    "        norm_bb = Variable(norm_bb).to(device)\n",
    "        q = Variable(q).to(device)\n",
    "        target = Variable(target).to(device)\n",
    "        spa_adj_matrix = np.tile(spa_adj_matrix[:,:,:, np.newaxis], [1,1,1,1])\n",
    "        spa_adj_matrix = torch.from_numpy(spa_adj_matrix)\n",
    "        spa_adj_matrix = Variable(spa_adj_matrix).to(device)\n",
    "        _, sem_adj_matrix, _ = prepare_graph_variables(\n",
    "                relation_type, bb, sem_adj_matrix, spa_adj_matrix, num_objects,\n",
    "                nongt_dim, imp_pos_emb_dim, spa_label_num,\n",
    "                sem_label_num, device)\n",
    "        pos_emb = None\n",
    "        pred, att = model(v, norm_bb, q, pos_emb, sem_adj_matrix,\n",
    "                          spa_adj_matrix, target)\n",
    "        batch_score = compute_score_with_logits(\n",
    "                        pred, target, device).sum()\n",
    "        score += batch_score\n",
    "        upper_bound += (target.max(1)[0]).sum()\n",
    "        num_data += pred.size(0)\n",
    "        if att is not None and 0 < model.glimpse\\\n",
    "                and entropy is not None:\n",
    "            entropy += calc_entropy(att.data)[:model.glimpse]\n",
    "\n",
    "    score = score / len(dataloader.dataset)\n",
    "    upper_bound = upper_bound / len(dataloader.dataset)\n",
    "\n",
    "    if entropy is not None:\n",
    "        entropy = entropy / len(dataloader.dataset)\n",
    "    model.train()\n",
    "    return score, upper_bound, entropy\n",
    "\n",
    "\n",
    "@torch.no_grad()\n",
    "def test_evaluate(model, dataloader, nongt_dim, imp_pos_emb_dim, spa_label_num, sem_label_num, output, dataset , device):\n",
    "    model.eval()\n",
    "    label2ans = dataloader.dataset.label2ans\n",
    "    num_answers = len(label2ans)\n",
    "    relation_type = dataloader.dataset.relation_type\n",
    "    N = len(dataloader.dataset)\n",
    "    results = []\n",
    "    scores = []\n",
    "    score = 0\n",
    "\n",
    "    for i, (v, norm_bb, q, target, qid, _, bb, spa_adj_matrix, sem_adj_matrix) in enumerate(dataloader):\n",
    "        batch_size = v.size(0)\n",
    "        num_objects = v.size(1)\n",
    "        v = Variable(v).to(device)\n",
    "        norm_bb = Variable(norm_bb).to(device)\n",
    "        q = Variable(q).to(device)\n",
    "        spa_adj_matrix = np.tile(spa_adj_matrix[:,:,:, np.newaxis], [1,1,1,1])\n",
    "        spa_adj_matrix = torch.from_numpy(spa_adj_matrix)\n",
    "        spa_adj_matrix = Variable(spa_adj_matrix).to(device)\n",
    "        _, sem_adj_matrix, _ = prepare_graph_variables(\n",
    "                relation_type, bb, sem_adj_matrix, spa_adj_matrix, num_objects,\n",
    "                nongt_dim, imp_pos_emb_dim, spa_label_num,\n",
    "                sem_label_num, device)\n",
    "        pos_emb = None\n",
    "        pred, att = model(v, norm_bb, q, pos_emb, sem_adj_matrix,\n",
    "                          spa_adj_matrix, None)\n",
    "\n",
    "        # Check if target is a placeholder or actual targets\n",
    "        if target.size(-1) == num_answers:\n",
    "            target = Variable(target).to(device)\n",
    "            base_scores = compute_score_with_logits(\n",
    "                pred, target, device)\n",
    "            batch_score = base_scores.sum()\n",
    "            score += batch_score\n",
    "            scores.append(base_scores.detach().cpu().numpy().sum(-1))\n",
    "            \n",
    "        qid = qid.cpu()\n",
    "        pred = pred.cpu()\n",
    "        target = target.cpu()\n",
    "        current_results = make_json(pred, qid, dataloader, target)\n",
    "        results.extend(current_results)\n",
    "        results_folder = f\"{output}/results\"\n",
    "        utils.create_dir(results_folder)\n",
    "        save_to = f\"{results_folder}/{dataset}.json\"\n",
    "        json.dump(results, open(save_to, \"w\"))\n",
    "\n",
    "    scores = np.concatenate(scores).ravel()\n",
    "\n",
    "    qtype_score = {qtype: 0. for qtype in question_types}\n",
    "    qtype_cnt = {qtype: 0 for qtype in question_types}\n",
    "    for i in range(len(dataloader.dataset.entries)):\n",
    "        entry = dataloader.dataset.entries[i]\n",
    "        qtype = get_q_type(entry['question'])\n",
    "        qtype_cnt[qtype] += 1\n",
    "        qtype_score[qtype] += scores[i]\n",
    "\n",
    "    with open(os.path.join(output, 'type_result.txt'), 'w') as f:\n",
    "        info = str(datetime.datetime.now())\n",
    "        for t in question_types:\n",
    "            if qtype_cnt[t] > 0:\n",
    "                info += 'type %s:\\tcnt=%d\\tacc=%.4f\\n' % (t, qtype_cnt[t], qtype_score[t] / qtype_cnt[t])\n",
    "        f.write(info)\n",
    "        print(info)\n",
    "\n",
    "    score = score / N\n",
    "    return score"
   ]
  },
  {
   "cell_type": "code",
   "execution_count": 27,
   "metadata": {},
   "outputs": [
    {
     "name": "stdout",
     "output_type": "stream",
     "text": [
      "optim: adamax lr=0.0010, decay_step=2, decay_rate=0.25,grad_clip=0.25\n",
      "LR decay epochs: 15,17,19\n",
      "gradual warmup lr: 0.0005\n",
      "epoch 0, time: 115.95\n",
      "\ttrain_loss: 11.00, norm: 30.9551, score: 40.90\n",
      "\teval score: 45.12 (100.00)\n",
      "\tentropy:  2.14\n",
      "gradual warmup lr: 0.0010\n",
      "epoch 1, time: 121.44\n",
      "\ttrain_loss: 3.76, norm: 7.8079, score: 45.34\n",
      "\teval score: 45.31 (100.00)\n",
      "\tentropy:  1.96\n",
      "gradual warmup lr: 0.0015\n",
      "epoch 2, time: 124.06\n",
      "\ttrain_loss: 3.58, norm: 5.9973, score: 47.29\n",
      "\teval score: 46.87 (100.00)\n",
      "\tentropy:  1.35\n",
      "gradual warmup lr: 0.0020\n",
      "epoch 3, time: 125.59\n",
      "\ttrain_loss: 3.39, norm: 5.0723, score: 48.71\n",
      "\teval score: 47.75 (100.00)\n",
      "\tentropy:  1.27\n",
      "lr: 0.0020\n",
      "epoch 4, time: 127.30\n",
      "\ttrain_loss: 3.16, norm: 4.0228, score: 51.09\n",
      "\teval score: 48.08 (100.00)\n",
      "\tentropy:  0.63\n",
      "lr: 0.0020\n",
      "epoch 5, time: 127.11\n",
      "\ttrain_loss: 2.97, norm: 3.4992, score: 53.38\n",
      "\teval score: 48.48 (100.00)\n",
      "\tentropy:  0.50\n",
      "lr: 0.0020\n",
      "epoch 6, time: 128.33\n",
      "\ttrain_loss: 2.81, norm: 3.5061, score: 55.20\n",
      "\teval score: 48.91 (100.00)\n",
      "\tentropy:  0.47\n",
      "lr: 0.0020\n",
      "epoch 7, time: 129.47\n",
      "\ttrain_loss: 2.67, norm: 3.0845, score: 57.32\n",
      "\teval score: 49.75 (100.00)\n",
      "\tentropy:  0.35\n",
      "lr: 0.0020\n",
      "epoch 8, time: 129.09\n",
      "\ttrain_loss: 2.56, norm: 3.2746, score: 59.44\n",
      "\teval score: 50.02 (100.00)\n",
      "\tentropy:  0.62\n",
      "lr: 0.0020\n",
      "epoch 9, time: 130.33\n",
      "\ttrain_loss: 2.44, norm: 3.0632, score: 61.91\n",
      "\teval score: 50.66 (100.00)\n",
      "\tentropy:  1.03\n",
      "lr: 0.0020\n",
      "epoch 10, time: 129.58\n",
      "\ttrain_loss: 2.34, norm: 3.1100, score: 64.61\n",
      "\teval score: 51.47 (100.00)\n",
      "\tentropy:  1.45\n",
      "lr: 0.0020\n",
      "epoch 11, time: 130.60\n",
      "\ttrain_loss: 2.24, norm: 3.3054, score: 66.68\n",
      "\teval score: 51.76 (100.00)\n",
      "\tentropy:  1.79\n",
      "lr: 0.0020\n",
      "epoch 12, time: 129.63\n",
      "\ttrain_loss: 2.15, norm: 3.2940, score: 68.71\n",
      "\teval score: 52.48 (100.00)\n",
      "\tentropy:  2.01\n",
      "lr: 0.0020\n",
      "epoch 13, time: 129.84\n",
      "\ttrain_loss: 2.06, norm: 3.2795, score: 70.48\n",
      "\teval score: 53.64 (100.00)\n",
      "\tentropy:  2.12\n",
      "lr: 0.0020\n",
      "epoch 14, time: 129.65\n",
      "\ttrain_loss: 1.98, norm: 3.3836, score: 72.31\n",
      "\teval score: 53.07 (100.00)\n",
      "\tentropy:  2.22\n",
      "decreased lr: 0.0005\n",
      "epoch 15, time: 131.70\n",
      "\ttrain_loss: 1.83, norm: 2.9400, score: 74.38\n",
      "\teval score: 54.48 (100.00)\n",
      "\tentropy:  2.47\n",
      "lr: 0.0005\n",
      "epoch 16, time: 133.15\n",
      "\ttrain_loss: 1.75, norm: 2.8480, score: 75.50\n",
      "\teval score: 54.79 (100.00)\n",
      "\tentropy:  2.40\n",
      "decreased lr: 0.0001\n",
      "epoch 17, time: 133.46\n",
      "\ttrain_loss: 1.69, norm: 2.7450, score: 76.35\n",
      "\teval score: 54.72 (100.00)\n",
      "\tentropy:  2.44\n",
      "decreased lr: 0.0000\n",
      "epoch 18, time: 133.71\n",
      "\ttrain_loss: 1.67, norm: 2.7153, score: 76.59\n",
      "\teval score: 54.91 (100.00)\n",
      "\tentropy:  2.44\n",
      "decreased lr: 0.0000\n",
      "epoch 19, time: 133.07\n",
      "\ttrain_loss: 1.66, norm: 2.6901, score: 76.60\n",
      "\teval score: 54.90 (100.00)\n",
      "\tentropy:  2.44\n",
      "Final epoch 19, time: 133.08, test evaluation\n",
      "2021-12-10 20:09:59.886928type where:\tcnt=1316\tacc=0.7682\n",
      "type what:\tcnt=8083\tacc=0.7795\n",
      "type how:\tcnt=362\tacc=0.7735\n",
      "type how many/how much:\tcnt=67\tacc=0.7015\n",
      "type when:\tcnt=31\tacc=0.7419\n",
      "type why:\tcnt=71\tacc=0.7324\n",
      "type who/whose:\tcnt=21\tacc=0.7143\n",
      "type yes/no:\tcnt=9804\tacc=0.7729\n",
      "\n",
      "\ttest score: 77.48\n"
     ]
    }
   ],
   "source": [
    "training(model, train_loader = train_loader, eval_loader = eval_loader, test_loader = test_loader, \n",
    "         epochs = 20, base_lr = 1e-03, lr_decay_start= 15, lr_decay_rate = 0.25, lr_decay_step = 2, grad_clip = 0.25,\n",
    "         weight_decay = 0, output = output, nongt_dim = nongt_dim, imp_pos_emb_dim = imp_pos_emb_dim, spa_label_num = 0, sem_label_num = 0,\n",
    "         device=device)"
   ]
  }
 ],
 "metadata": {
  "kernelspec": {
   "display_name": "pytorch",
   "language": "python",
   "name": "pytorch"
  },
  "language_info": {
   "codemirror_mode": {
    "name": "ipython",
    "version": 3
   },
   "file_extension": ".py",
   "mimetype": "text/x-python",
   "name": "python",
   "nbconvert_exporter": "python",
   "pygments_lexer": "ipython3",
   "version": "3.8.5"
  }
 },
 "nbformat": 4,
 "nbformat_minor": 4
}
